{
 "cells": [
  {
   "cell_type": "markdown",
   "metadata": {
    "colab_type": "text",
    "id": "KTyDN_BOb0Al"
   },
   "source": [
    "# Option 2: Filling missing data and transforming categorical data with Scikit-Learn\n",
    "\n",
    "This notebook updates the code in the \"Getting Your Data Ready: Handling Missing Values in Scikit-Learn\".\n",
    "\n",
    "The video shows filling and transforming the entire dataset (`X`) and although the techniques are correct, it's best to fill and transform training and test sets separately (as shown in the code below).\n",
    "\n",
    "The main takeaways:\n",
    "- Split your data first (into train/test), always keep your training & test data separate\n",
    "- Fill/transform the training set and test sets separately\n",
    "\n",
    "Thank you Robert [for pointing this out](https://www.udemy.com/course/complete-machine-learning-and-data-science-zero-to-mastery/learn/#questions/9506426).\n",
    "\n",
    "All code in this notebook has been reflected in the GitHub repository version of the notebooks:\n",
    "- [introduction-to-scikit-learn.ipynb](https://github.com/mrdbourke/zero-to-mastery-ml/blob/master/section-2-data-science-and-ml-tools/introduction-to-scikit-learn.ipynb)\n",
    "- [introduction-to-scikit-learn-video.ipynb](https://github.com/mrdbourke/zero-to-mastery-ml/blob/master/section-2-data-science-and-ml-tools/introduction-to-scikit-learn-video.ipynb)"
   ]
  },
  {
   "cell_type": "code",
   "execution_count": 1,
   "metadata": {
    "colab": {},
    "colab_type": "code",
    "id": "5PRVurQBcb_x"
   },
   "outputs": [],
   "source": [
    "# Standard imports\n",
    "import numpy as np\n",
    "import pandas as pd\n",
    "import matplotlib.pyplot as plt\n",
    "%matplotlib inline"
   ]
  },
  {
   "cell_type": "markdown",
   "metadata": {
    "colab_type": "text",
    "id": "yqVN3A_ddVzR"
   },
   "source": [
    "**Note:** Since this notebook is running on Colab, the data has been imported directly from GitHub. It is the same data used in the videos.\n",
    "\n",
    "Data on GitHub: https://raw.githubusercontent.com/mrdbourke/zero-to-mastery-ml/master/data/car-sales-extended-missing-data.csv"
   ]
  },
  {
   "cell_type": "code",
   "execution_count": 2,
   "metadata": {
    "colab": {
     "base_uri": "https://localhost:8080/",
     "height": 204
    },
    "colab_type": "code",
    "id": "IxanCzCOdMIc",
    "outputId": "53c50b91-0f72-4250-c28b-f27459b32a87"
   },
   "outputs": [
    {
     "data": {
      "text/html": [
       "<div>\n",
       "<style scoped>\n",
       "    .dataframe tbody tr th:only-of-type {\n",
       "        vertical-align: middle;\n",
       "    }\n",
       "\n",
       "    .dataframe tbody tr th {\n",
       "        vertical-align: top;\n",
       "    }\n",
       "\n",
       "    .dataframe thead th {\n",
       "        text-align: right;\n",
       "    }\n",
       "</style>\n",
       "<table border=\"1\" class=\"dataframe\">\n",
       "  <thead>\n",
       "    <tr style=\"text-align: right;\">\n",
       "      <th></th>\n",
       "      <th>Make</th>\n",
       "      <th>Colour</th>\n",
       "      <th>Odometer (KM)</th>\n",
       "      <th>Doors</th>\n",
       "      <th>Price</th>\n",
       "    </tr>\n",
       "  </thead>\n",
       "  <tbody>\n",
       "    <tr>\n",
       "      <th>0</th>\n",
       "      <td>Honda</td>\n",
       "      <td>White</td>\n",
       "      <td>35431.0</td>\n",
       "      <td>4.0</td>\n",
       "      <td>15323.0</td>\n",
       "    </tr>\n",
       "    <tr>\n",
       "      <th>1</th>\n",
       "      <td>BMW</td>\n",
       "      <td>Blue</td>\n",
       "      <td>192714.0</td>\n",
       "      <td>5.0</td>\n",
       "      <td>19943.0</td>\n",
       "    </tr>\n",
       "    <tr>\n",
       "      <th>2</th>\n",
       "      <td>Honda</td>\n",
       "      <td>White</td>\n",
       "      <td>84714.0</td>\n",
       "      <td>4.0</td>\n",
       "      <td>28343.0</td>\n",
       "    </tr>\n",
       "    <tr>\n",
       "      <th>3</th>\n",
       "      <td>Toyota</td>\n",
       "      <td>White</td>\n",
       "      <td>154365.0</td>\n",
       "      <td>4.0</td>\n",
       "      <td>13434.0</td>\n",
       "    </tr>\n",
       "    <tr>\n",
       "      <th>4</th>\n",
       "      <td>Nissan</td>\n",
       "      <td>Blue</td>\n",
       "      <td>181577.0</td>\n",
       "      <td>3.0</td>\n",
       "      <td>14043.0</td>\n",
       "    </tr>\n",
       "  </tbody>\n",
       "</table>\n",
       "</div>"
      ],
      "text/plain": [
       "     Make Colour  Odometer (KM)  Doors    Price\n",
       "0   Honda  White        35431.0    4.0  15323.0\n",
       "1     BMW   Blue       192714.0    5.0  19943.0\n",
       "2   Honda  White        84714.0    4.0  28343.0\n",
       "3  Toyota  White       154365.0    4.0  13434.0\n",
       "4  Nissan   Blue       181577.0    3.0  14043.0"
      ]
     },
     "execution_count": 2,
     "metadata": {},
     "output_type": "execute_result"
    }
   ],
   "source": [
    "car_sales_missing = pd.read_csv(\"car-sales-extended-missing-data.csv\")\n",
    "car_sales_missing.head()"
   ]
  },
  {
   "cell_type": "code",
   "execution_count": 3,
   "metadata": {
    "colab": {
     "base_uri": "https://localhost:8080/",
     "height": 119
    },
    "colab_type": "code",
    "id": "VwEtIuzRdwio",
    "outputId": "116c7dba-69cf-451b-e0f8-7f9022289761"
   },
   "outputs": [
    {
     "data": {
      "text/plain": [
       "Make             49\n",
       "Colour           50\n",
       "Odometer (KM)    50\n",
       "Doors            50\n",
       "Price            50\n",
       "dtype: int64"
      ]
     },
     "execution_count": 3,
     "metadata": {},
     "output_type": "execute_result"
    }
   ],
   "source": [
    "# Check missing values\n",
    "car_sales_missing.isna().sum()"
   ]
  },
  {
   "cell_type": "code",
   "execution_count": 4,
   "metadata": {
    "colab": {
     "base_uri": "https://localhost:8080/",
     "height": 119
    },
    "colab_type": "code",
    "id": "TbBfGLYzdztd",
    "outputId": "18fe43f2-e6c4-4770-9f3b-a797de83f9a9"
   },
   "outputs": [
    {
     "data": {
      "text/plain": [
       "Make             47\n",
       "Colour           46\n",
       "Odometer (KM)    48\n",
       "Doors            47\n",
       "Price             0\n",
       "dtype: int64"
      ]
     },
     "execution_count": 4,
     "metadata": {},
     "output_type": "execute_result"
    }
   ],
   "source": [
    "# Drop the rows with no labels\n",
    "car_sales_missing.dropna(subset=[\"Price\"], inplace=True)\n",
    "car_sales_missing.isna().sum()"
   ]
  },
  {
   "cell_type": "markdown",
   "metadata": {
    "colab_type": "text",
    "id": "ibDOSQw8d_eS"
   },
   "source": [
    "Note the difference in the following cell to the videos, the data is split into train and test before any filling missing values or transformations take place."
   ]
  },
  {
   "cell_type": "code",
   "execution_count": 5,
   "metadata": {
    "colab": {},
    "colab_type": "code",
    "id": "qkW21y5xd1Ub"
   },
   "outputs": [],
   "source": [
    "from sklearn.model_selection import train_test_split\n",
    "\n",
    "# Split into X & y\n",
    "X = car_sales_missing.drop(\"Price\", axis=1)\n",
    "y = car_sales_missing[\"Price\"]\n",
    "\n",
    "# Split data into train and test\n",
    "np.random.seed(42)\n",
    "X_train, X_test, y_train, y_test = train_test_split(X,\n",
    "                                                    y,\n",
    "                                                    test_size=0.2)"
   ]
  },
  {
   "cell_type": "code",
   "execution_count": 6,
   "metadata": {
    "colab": {
     "base_uri": "https://localhost:8080/",
     "height": 102
    },
    "colab_type": "code",
    "id": "mIP4xUiod3ss",
    "outputId": "8e872ce2-cd44-4475-951c-5030bc8f4bae"
   },
   "outputs": [
    {
     "data": {
      "text/plain": [
       "Make             47\n",
       "Colour           46\n",
       "Odometer (KM)    48\n",
       "Doors            47\n",
       "dtype: int64"
      ]
     },
     "execution_count": 6,
     "metadata": {},
     "output_type": "execute_result"
    }
   ],
   "source": [
    "# Check missing values\n",
    "X.isna().sum()"
   ]
  },
  {
   "cell_type": "markdown",
   "metadata": {
    "colab_type": "text",
    "id": "5JVcgU6hePGd"
   },
   "source": [
    "Let's fill the missing values. We'll fill the training and test values separately to ensure training data stays with the training data and test data stays with the test data.\n",
    "\n",
    "**Note:** We use `fit_transform()` on the training data and `transform()` on the testing data. In essence, we learn the patterns in the training set and transform it via imputation (fit, then transform). Then we take those same patterns and fill the test set (transform only)."
   ]
  },
  {
   "cell_type": "code",
   "execution_count": 7,
   "metadata": {
    "colab": {
     "base_uri": "https://localhost:8080/",
     "height": 136
    },
    "colab_type": "code",
    "id": "hFqvS_cHeLAc",
    "outputId": "6d721fd9-1461-4cce-d121-52c3225c51f7"
   },
   "outputs": [
    {
     "data": {
      "text/plain": [
       "array([['Honda', 'White', 4.0, 71934.0],\n",
       "       ['Toyota', 'Red', 4.0, 162665.0],\n",
       "       ['Honda', 'White', 4.0, 42844.0],\n",
       "       ...,\n",
       "       ['Toyota', 'White', 4.0, 196225.0],\n",
       "       ['Honda', 'Blue', 4.0, 133117.0],\n",
       "       ['Honda', 'missing', 4.0, 150582.0]], dtype=object)"
      ]
     },
     "execution_count": 7,
     "metadata": {},
     "output_type": "execute_result"
    }
   ],
   "source": [
    "# Fill missing values with Scikit-Learn\n",
    "from sklearn.impute import SimpleImputer\n",
    "from sklearn.compose import ColumnTransformer\n",
    "\n",
    "# Fill categorical values with 'missing' & numerical values with mean\n",
    "cat_imputer = SimpleImputer(strategy=\"constant\", fill_value=\"missing\")\n",
    "door_imputer = SimpleImputer(strategy=\"constant\", fill_value=4)\n",
    "num_imputer = SimpleImputer(strategy=\"mean\")\n",
    "\n",
    "# Define columns\n",
    "cat_features = [\"Make\", \"Colour\"]\n",
    "door_feature = [\"Doors\"]\n",
    "num_features = [\"Odometer (KM)\"]\n",
    "\n",
    "# Create an imputer (something that fills missing data)\n",
    "imputer = ColumnTransformer([\n",
    "    (\"cat_imputer\", cat_imputer, cat_features),\n",
    "    (\"door_imputer\", door_imputer, door_feature),\n",
    "    (\"num_imputer\", num_imputer, num_features)\n",
    "])\n",
    "\n",
    "# Fill train and test values separately\n",
    "filled_X_train = imputer.fit_transform(X_train)\n",
    "filled_X_test = imputer.transform(X_test)\n",
    "\n",
    "# Check filled X_train\n",
    "filled_X_train"
   ]
  },
  {
   "cell_type": "code",
   "execution_count": 8,
   "metadata": {},
   "outputs": [
    {
     "data": {
      "text/plain": [
       "array([['Toyota', 'Blue', 4.0, 99761.0],\n",
       "       ['Toyota', 'Black', 4.0, 17975.0],\n",
       "       ['Honda', 'Blue', 4.0, 197664.0],\n",
       "       ['Nissan', 'Green', 4.0, 235589.0],\n",
       "       ['Honda', 'Black', 4.0, 231659.0],\n",
       "       ['Toyota', 'Blue', 4.0, 247601.0],\n",
       "       ['Toyota', 'Green', 4.0, 110078.0],\n",
       "       ['missing', 'White', 4.0, 155383.0],\n",
       "       ['Nissan', 'White', 4.0, 26634.0],\n",
       "       ['Honda', 'White', 4.0, 130319.03314917127],\n",
       "       ['Honda', 'Green', 4.0, 238825.0],\n",
       "       ['Honda', 'Green', 4.0, 37606.0],\n",
       "       ['Toyota', 'Blue', 4.0, 230908.0],\n",
       "       ['Toyota', 'Red', 4.0, 159925.0],\n",
       "       ['Toyota', 'Blue', 4.0, 181466.0],\n",
       "       ['Toyota', 'Blue', 4.0, 140465.0],\n",
       "       ['Toyota', 'White', 4.0, 146307.0],\n",
       "       ['Toyota', 'Green', 4.0, 214179.0],\n",
       "       ['Honda', 'White', 4.0, 184869.0],\n",
       "       ['Toyota', 'Black', 4.0, 224986.0],\n",
       "       ['Nissan', 'White', 3.0, 176135.0],\n",
       "       ['Nissan', 'Red', 4.0, 130319.03314917127],\n",
       "       ['Toyota', 'Blue', 4.0, 112223.0],\n",
       "       ['BMW', 'missing', 5.0, 206446.0],\n",
       "       ['Honda', 'Green', 4.0, 130075.0],\n",
       "       ['Nissan', 'Green', 4.0, 87701.0],\n",
       "       ['Honda', 'Red', 4.0, 16079.0],\n",
       "       ['Toyota', 'White', 4.0, 172018.0],\n",
       "       ['Nissan', 'White', 4.0, 19265.0],\n",
       "       ['Nissan', 'Blue', 4.0, 34024.0],\n",
       "       ['Honda', 'White', 4.0, 56534.0],\n",
       "       ['Toyota', 'White', 4.0, 22257.0],\n",
       "       ['Toyota', 'missing', 4.0, 192890.0],\n",
       "       ['Toyota', 'Green', 4.0, 130319.03314917127],\n",
       "       ['Toyota', 'Black', 4.0, 93054.0],\n",
       "       ['Honda', 'Blue', 4.0, 31677.0],\n",
       "       ['Toyota', 'Blue', 4.0, 222542.0],\n",
       "       ['Nissan', 'Blue', 4.0, 179666.0],\n",
       "       ['Toyota', 'Black', 4.0, 86696.0],\n",
       "       ['Toyota', 'Blue', 4.0, 240627.0],\n",
       "       ['Toyota', 'Green', 4.0, 109868.0],\n",
       "       ['Toyota', 'White', 4.0, 119439.0],\n",
       "       ['Toyota', 'Blue', 4.0, 85473.0],\n",
       "       ['Nissan', 'White', 4.0, 82429.0],\n",
       "       ['Nissan', 'Blue', 4.0, 130319.03314917127],\n",
       "       ['missing', 'Blue', 4.0, 179468.0],\n",
       "       ['Toyota', 'White', 4.0, 216647.0],\n",
       "       ['Honda', 'Black', 4.0, 237861.0],\n",
       "       ['Nissan', 'White', 4.0, 123121.0],\n",
       "       ['Honda', 'Blue', 4.0, 50417.0],\n",
       "       ['Toyota', 'Blue', 4.0, 229110.0],\n",
       "       ['Toyota', 'Blue', 4.0, 29856.0],\n",
       "       ['Nissan', 'White', 4.0, 43540.0],\n",
       "       ['Nissan', 'Black', 4.0, 239908.0],\n",
       "       ['missing', 'White', 4.0, 103728.0],\n",
       "       ['missing', 'White', 4.0, 138294.0],\n",
       "       ['Nissan', 'Red', 4.0, 124112.0],\n",
       "       ['Nissan', 'Red', 4.0, 166895.0],\n",
       "       ['Nissan', 'White', 3.0, 130319.03314917127],\n",
       "       ['Toyota', 'White', 4.0, 177571.0],\n",
       "       ['Toyota', 'White', 4.0, 227387.0],\n",
       "       ['Toyota', 'White', 4.0, 130319.03314917127],\n",
       "       ['Toyota', 'Red', 4.0, 157432.0],\n",
       "       ['Honda', 'Blue', 4.0, 68223.0],\n",
       "       ['Honda', 'Blue', 4.0, 84719.0],\n",
       "       ['Honda', 'Green', 4.0, 47019.0],\n",
       "       ['Toyota', 'Black', 4.0, 201753.0],\n",
       "       ['missing', 'Blue', 4.0, 96363.0],\n",
       "       ['Nissan', 'White', 4.0, 48730.0],\n",
       "       ['Honda', 'Green', 4.0, 94062.0],\n",
       "       ['Honda', 'Red', 4.0, 111727.0],\n",
       "       ['missing', 'Blue', 4.0, 73926.0],\n",
       "       ['Nissan', 'Red', 4.0, 61892.0],\n",
       "       ['Nissan', 'Blue', 4.0, 124116.0],\n",
       "       ['Nissan', 'Blue', 4.0, 111256.0],\n",
       "       ['missing', 'Blue', 4.0, 216250.0],\n",
       "       ['missing', 'Black', 4.0, 189001.0],\n",
       "       ['Honda', 'White', 4.0, 134949.0],\n",
       "       ['BMW', 'White', 5.0, 29534.0],\n",
       "       ['Toyota', 'White', 4.0, 110362.0],\n",
       "       ['Honda', 'White', 4.0, 148238.0],\n",
       "       ['Toyota', 'Blue', 4.0, 193276.0],\n",
       "       ['Toyota', 'Green', 4.0, 132714.0],\n",
       "       ['Toyota', 'Blue', 4.0, 23241.0],\n",
       "       ['Toyota', 'Red', 4.0, 190211.0],\n",
       "       ['Toyota', 'White', 4.0, 112968.0],\n",
       "       ['Nissan', 'White', 4.0, 192747.0],\n",
       "       ['Honda', 'missing', 4.0, 118609.0],\n",
       "       ['Toyota', 'Blue', 4.0, 63975.0],\n",
       "       ['Honda', 'White', 4.0, 56523.0],\n",
       "       ['Honda', 'Green', 4.0, 130319.03314917127],\n",
       "       ['Honda', 'White', 4.0, 214405.0],\n",
       "       ['Toyota', 'Green', 4.0, 221725.0],\n",
       "       ['Honda', 'Blue', 4.0, 196835.0],\n",
       "       ['Honda', 'Red', 4.0, 47933.0],\n",
       "       ['Honda', 'White', 4.0, 219635.0],\n",
       "       ['Honda', 'White', 4.0, 130319.03314917127],\n",
       "       ['Nissan', 'Blue', 4.0, 189182.0],\n",
       "       ['Toyota', 'Blue', 4.0, 213893.0],\n",
       "       ['Toyota', 'Black', 4.0, 35820.0],\n",
       "       ['BMW', 'Red', 5.0, 131587.0],\n",
       "       ['Honda', 'White', 4.0, 178134.0],\n",
       "       ['Honda', 'missing', 4.0, 130319.03314917127],\n",
       "       ['Honda', 'Red', 4.0, 98523.0],\n",
       "       ['BMW', 'White', 5.0, 23996.0],\n",
       "       ['Toyota', 'White', 4.0, 239760.0],\n",
       "       ['Toyota', 'White', 4.0, 183368.0],\n",
       "       ['Toyota', 'White', 4.0, 134862.0],\n",
       "       ['Honda', 'Green', 4.0, 81764.0],\n",
       "       ['Toyota', 'Green', 4.0, 151291.0],\n",
       "       ['BMW', 'Blue', 3.0, 130817.0],\n",
       "       ['Honda', 'Green', 4.0, 208651.0],\n",
       "       ['Nissan', 'missing', 4.0, 206073.0],\n",
       "       ['Toyota', 'White', 4.0, 164093.0],\n",
       "       ['Honda', 'Blue', 4.0, 130319.03314917127],\n",
       "       ['Honda', 'White', 4.0, 136340.0],\n",
       "       ['Honda', 'Blue', 4.0, 217068.0],\n",
       "       ['Toyota', 'Red', 4.0, 148518.0],\n",
       "       ['Honda', 'White', 4.0, 29514.0],\n",
       "       ['Toyota', 'White', 4.0, 72118.0],\n",
       "       ['BMW', 'Red', 5.0, 208124.0],\n",
       "       ['Honda', 'White', 4.0, 171260.0],\n",
       "       ['BMW', 'Black', 5.0, 204746.0],\n",
       "       ['missing', 'missing', 4.0, 61876.0],\n",
       "       ['Honda', 'White', 4.0, 28791.0],\n",
       "       ['Honda', 'Black', 4.0, 61120.0],\n",
       "       ['Toyota', 'Black', 4.0, 121160.0],\n",
       "       ['Toyota', 'Blue', 4.0, 223390.0],\n",
       "       ['missing', 'White', 3.0, 133069.0],\n",
       "       ['Toyota', 'White', 4.0, 46848.0],\n",
       "       ['Toyota', 'Red', 4.0, 86284.0],\n",
       "       ['Toyota', 'White', 4.0, 231683.0],\n",
       "       ['Toyota', 'Black', 4.0, 71463.0],\n",
       "       ['BMW', 'Black', 5.0, 181572.0],\n",
       "       ['Toyota', 'White', 4.0, 221050.0],\n",
       "       ['Honda', 'White', 4.0, 192655.0],\n",
       "       ['Toyota', 'Blue', 4.0, 200597.0],\n",
       "       ['Toyota', 'Green', 4.0, 180760.0],\n",
       "       ['BMW', 'White', 5.0, 102773.0],\n",
       "       ['Honda', 'White', 4.0, 25729.0],\n",
       "       ['Honda', 'White', 4.0, 237209.0],\n",
       "       ['missing', 'Blue', 4.0, 23545.0],\n",
       "       ['BMW', 'Blue', 5.0, 31277.0],\n",
       "       ['BMW', 'White', 5.0, 26531.0],\n",
       "       ['Honda', 'White', 4.0, 82518.0],\n",
       "       ['Honda', 'White', 4.0, 152212.0],\n",
       "       ['Toyota', 'Red', 4.0, 133195.0],\n",
       "       ['Toyota', 'Blue', 4.0, 232912.0],\n",
       "       ['Toyota', 'White', 4.0, 124205.0],\n",
       "       ['Honda', 'missing', 4.0, 144093.0],\n",
       "       ['Toyota', 'Black', 4.0, 72287.0],\n",
       "       ['Honda', 'Blue', 4.0, 78153.0],\n",
       "       ['Toyota', 'Blue', 4.0, 89641.0],\n",
       "       ['Honda', 'missing', 4.0, 213793.0],\n",
       "       ['Nissan', 'Green', 3.0, 76610.0],\n",
       "       ['Toyota', 'White', 4.0, 81656.0],\n",
       "       ['Nissan', 'White', 3.0, 130319.03314917127],\n",
       "       ['Toyota', 'Blue', 4.0, 238425.0],\n",
       "       ['missing', 'Black', 4.0, 224479.0],\n",
       "       ['BMW', 'Red', 5.0, 156064.0],\n",
       "       ['Honda', 'Black', 4.0, 27788.0],\n",
       "       ['Honda', 'White', 4.0, 130319.03314917127],\n",
       "       ['Toyota', 'Red', 4.0, 49807.0],\n",
       "       ['Honda', 'White', 4.0, 113704.0],\n",
       "       ['Toyota', 'White', 4.0, 149989.0],\n",
       "       ['BMW', 'White', 5.0, 178796.0],\n",
       "       ['Honda', 'White', 4.0, 21393.0],\n",
       "       ['Honda', 'Black', 4.0, 143649.0],\n",
       "       ['Honda', 'White', 4.0, 34822.0],\n",
       "       ['Honda', 'White', 4.0, 136279.0],\n",
       "       ['BMW', 'Blue', 5.0, 212644.0],\n",
       "       ['Toyota', 'White', 4.0, 223727.0],\n",
       "       ['Nissan', 'White', 4.0, 24420.0],\n",
       "       ['Honda', 'White', 4.0, 161712.0],\n",
       "       ['Toyota', 'Blue', 4.0, 165301.0],\n",
       "       ['Honda', 'Black', 4.0, 119033.0],\n",
       "       ['Toyota', 'Black', 4.0, 86333.0],\n",
       "       ['Toyota', 'White', 4.0, 69222.0],\n",
       "       ['BMW', 'White', 5.0, 69066.0],\n",
       "       ['Honda', 'White', 4.0, 178351.0],\n",
       "       ['Nissan', 'White', 3.0, 213449.0],\n",
       "       ['Nissan', 'Red', 3.0, 196130.0],\n",
       "       ['BMW', 'White', 5.0, 85739.0],\n",
       "       ['BMW', 'Blue', 3.0, 163322.0],\n",
       "       ['Nissan', 'White', 4.0, 195056.0],\n",
       "       ['Honda', 'Green', 4.0, 165101.0],\n",
       "       ['Nissan', 'Green', 3.0, 153554.0],\n",
       "       ['Toyota', 'White', 4.0, 108569.0],\n",
       "       ['BMW', 'Black', 3.0, 201190.0],\n",
       "       ['Honda', 'White', 4.0, 61163.0]], dtype=object)"
      ]
     },
     "execution_count": 8,
     "metadata": {},
     "output_type": "execute_result"
    }
   ],
   "source": [
    "filled_X_test"
   ]
  },
  {
   "cell_type": "markdown",
   "metadata": {
    "colab_type": "text",
    "id": "crDwJQBUeefB"
   },
   "source": [
    "Now we've filled our missing values, let's check how many are missing from each set."
   ]
  },
  {
   "cell_type": "code",
   "execution_count": 9,
   "metadata": {
    "colab": {
     "base_uri": "https://localhost:8080/",
     "height": 102
    },
    "colab_type": "code",
    "id": "7IVLz80Tebof",
    "outputId": "230e996b-c3a3-4284-d648-1e4224248c2e"
   },
   "outputs": [
    {
     "data": {
      "text/plain": [
       "Make             0\n",
       "Colour           0\n",
       "Doors            0\n",
       "Odometer (KM)    0\n",
       "dtype: int64"
      ]
     },
     "execution_count": 9,
     "metadata": {},
     "output_type": "execute_result"
    }
   ],
   "source": [
    "# Get our transformed data array's back into DataFrame's\n",
    "car_sales_filled_train = pd.DataFrame(filled_X_train, \n",
    "                                      columns=[\"Make\", \"Colour\", \"Doors\", \"Odometer (KM)\"])\n",
    "\n",
    "car_sales_filled_test = pd.DataFrame(filled_X_test, \n",
    "                                     columns=[\"Make\", \"Colour\", \"Doors\", \"Odometer (KM)\"])\n",
    "\n",
    "# Check missing data in training set\n",
    "car_sales_filled_train.isna().sum()"
   ]
  },
  {
   "cell_type": "code",
   "execution_count": 10,
   "metadata": {
    "colab": {
     "base_uri": "https://localhost:8080/",
     "height": 102
    },
    "colab_type": "code",
    "id": "K2epdtleegp-",
    "outputId": "e528e7cd-cd23-4c41-bbca-e7e2e5968829"
   },
   "outputs": [
    {
     "data": {
      "text/plain": [
       "Make             0\n",
       "Colour           0\n",
       "Doors            0\n",
       "Odometer (KM)    0\n",
       "dtype: int64"
      ]
     },
     "execution_count": 10,
     "metadata": {},
     "output_type": "execute_result"
    }
   ],
   "source": [
    "# Check missing data in test set\n",
    "car_sales_filled_test.isna().sum()"
   ]
  },
  {
   "cell_type": "markdown",
   "metadata": {
    "colab_type": "text",
    "id": "ydOf_kqlertT"
   },
   "source": [
    "No more missing values!"
   ]
  },
  {
   "cell_type": "code",
   "execution_count": 11,
   "metadata": {
    "colab": {
     "base_uri": "https://localhost:8080/",
     "height": 119
    },
    "colab_type": "code",
    "id": "BrZRGMVEeqjg",
    "outputId": "f9b84e8c-bc84-4a2a-972d-062ae1a67c14"
   },
   "outputs": [
    {
     "data": {
      "text/plain": [
       "Make             47\n",
       "Colour           46\n",
       "Odometer (KM)    48\n",
       "Doors            47\n",
       "Price             0\n",
       "dtype: int64"
      ]
     },
     "execution_count": 11,
     "metadata": {},
     "output_type": "execute_result"
    }
   ],
   "source": [
    "# Check to see the original... still missing values\n",
    "car_sales_missing.isna().sum()"
   ]
  },
  {
   "cell_type": "markdown",
   "metadata": {
    "colab_type": "text",
    "id": "8VeMqLl8euM8"
   },
   "source": [
    "Okay, no missing values but we've still got to turn our data into numbers. Let's do that using one hot encoding.\n",
    "\n",
    "Again, keeping our training and test data separate."
   ]
  },
  {
   "cell_type": "code",
   "execution_count": 12,
   "metadata": {
    "colab": {
     "base_uri": "https://localhost:8080/",
     "height": 238
    },
    "colab_type": "code",
    "id": "9plOsEuBe90h",
    "outputId": "6f2a9a5a-6e0a-414d-f078-952f68955c91"
   },
   "outputs": [
    {
     "data": {
      "text/plain": [
       "array([[0.00000e+00, 1.00000e+00, 0.00000e+00, ..., 1.00000e+00,\n",
       "        0.00000e+00, 7.19340e+04],\n",
       "       [0.00000e+00, 0.00000e+00, 0.00000e+00, ..., 1.00000e+00,\n",
       "        0.00000e+00, 1.62665e+05],\n",
       "       [0.00000e+00, 1.00000e+00, 0.00000e+00, ..., 1.00000e+00,\n",
       "        0.00000e+00, 4.28440e+04],\n",
       "       ...,\n",
       "       [0.00000e+00, 0.00000e+00, 0.00000e+00, ..., 1.00000e+00,\n",
       "        0.00000e+00, 1.96225e+05],\n",
       "       [0.00000e+00, 1.00000e+00, 0.00000e+00, ..., 1.00000e+00,\n",
       "        0.00000e+00, 1.33117e+05],\n",
       "       [0.00000e+00, 1.00000e+00, 0.00000e+00, ..., 1.00000e+00,\n",
       "        0.00000e+00, 1.50582e+05]])"
      ]
     },
     "execution_count": 12,
     "metadata": {},
     "output_type": "execute_result"
    }
   ],
   "source": [
    "# Import OneHotEncoder class from sklearn\n",
    "from sklearn.preprocessing import OneHotEncoder\n",
    "\n",
    "# Now let's one hot encode the features with the same code as before \n",
    "categorical_features = [\"Make\", \"Colour\", \"Doors\"]\n",
    "one_hot = OneHotEncoder()\n",
    "transformer = ColumnTransformer([(\"one_hot\", \n",
    "                                 one_hot, \n",
    "                                 categorical_features)],\n",
    "                                 remainder=\"passthrough\")\n",
    "\n",
    "# Fill train and test values separately\n",
    "transformed_X_train = transformer.fit_transform(car_sales_filled_train)\n",
    "transformed_X_test = transformer.transform(car_sales_filled_test)\n",
    "\n",
    "# Check transformed and filled X_train\n",
    "transformed_X_train.toarray()"
   ]
  },
  {
   "cell_type": "code",
   "execution_count": 14,
   "metadata": {},
   "outputs": [
    {
     "data": {
      "text/plain": [
       "array([[0.00000e+00, 0.00000e+00, 0.00000e+00, ..., 1.00000e+00,\n",
       "        0.00000e+00, 9.97610e+04],\n",
       "       [0.00000e+00, 0.00000e+00, 0.00000e+00, ..., 1.00000e+00,\n",
       "        0.00000e+00, 1.79750e+04],\n",
       "       [0.00000e+00, 1.00000e+00, 0.00000e+00, ..., 1.00000e+00,\n",
       "        0.00000e+00, 1.97664e+05],\n",
       "       ...,\n",
       "       [0.00000e+00, 0.00000e+00, 0.00000e+00, ..., 1.00000e+00,\n",
       "        0.00000e+00, 1.08569e+05],\n",
       "       [1.00000e+00, 0.00000e+00, 0.00000e+00, ..., 0.00000e+00,\n",
       "        0.00000e+00, 2.01190e+05],\n",
       "       [0.00000e+00, 1.00000e+00, 0.00000e+00, ..., 1.00000e+00,\n",
       "        0.00000e+00, 6.11630e+04]])"
      ]
     },
     "execution_count": 14,
     "metadata": {},
     "output_type": "execute_result"
    }
   ],
   "source": [
    "transformed_X_test.toarray()"
   ]
  },
  {
   "cell_type": "markdown",
   "metadata": {
    "colab_type": "text",
    "id": "yzG-0xTKe44w"
   },
   "source": [
    "## Fit a model\n",
    "Wonderful! Now we've filled and transformed our data, ensuring the training and test sets have been kept separate. Let's fit a model to the training set and evaluate it on the test set."
   ]
  },
  {
   "cell_type": "code",
   "execution_count": 15,
   "metadata": {
    "colab": {
     "base_uri": "https://localhost:8080/",
     "height": 34
    },
    "colab_type": "code",
    "id": "P_DUtXm5fZu7",
    "outputId": "c294e011-b225-4b85-813c-694bcc73b506"
   },
   "outputs": [
    {
     "data": {
      "text/plain": [
       "0.21229043336119102"
      ]
     },
     "execution_count": 15,
     "metadata": {},
     "output_type": "execute_result"
    }
   ],
   "source": [
    "# Now we've transformed X, let's see if we can fit a model\n",
    "np.random.seed(42)\n",
    "from sklearn.ensemble import RandomForestRegressor\n",
    "\n",
    "# Setup model\n",
    "model = RandomForestRegressor()\n",
    "\n",
    "# Make sure to use transformed (filled and one-hot encoded X data)\n",
    "model.fit(transformed_X_train, y_train)\n",
    "model.score(transformed_X_test, y_test)"
   ]
  },
  {
   "cell_type": "code",
   "execution_count": null,
   "metadata": {},
   "outputs": [],
   "source": []
  }
 ],
 "metadata": {
  "colab": {
   "collapsed_sections": [],
   "name": "Filling Missing & Transforming Existing Values with Scikit-Learn.ipynb",
   "provenance": []
  },
  "kernelspec": {
   "display_name": "Python 3",
   "language": "python",
   "name": "python3"
  },
  "language_info": {
   "codemirror_mode": {
    "name": "ipython",
    "version": 3
   },
   "file_extension": ".py",
   "mimetype": "text/x-python",
   "name": "python",
   "nbconvert_exporter": "python",
   "pygments_lexer": "ipython3",
   "version": "3.7.6"
  }
 },
 "nbformat": 4,
 "nbformat_minor": 1
}
